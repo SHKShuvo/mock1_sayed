{
 "cells": [
  {
   "cell_type": "code",
   "execution_count": 1,
   "id": "91819f1b",
   "metadata": {},
   "outputs": [
    {
     "name": "stdout",
     "output_type": "stream",
     "text": [
      "Original Text:\n",
      "Hello, world! This is a test. Let's see how it works: should we remove or replace punctuation?\n",
      "\n",
      "Text after Removing Punctuation:\n",
      "Hello world This is a test Lets see how it works should we remove or replace punctuation\n",
      "\n",
      "Text after Replacing Punctuation with Space:\n",
      "Hello  world  This is a test  Let s see how it works  should we remove or replace punctuation \n"
     ]
    }
   ],
   "source": [
    "import re\n",
    "\n",
    "# Sample text\n",
    "text = \"Hello, world! This is a test. Let's see how it works: should we remove or replace punctuation?\"\n",
    "\n",
    "# Remove punctuation\n",
    "text_no_punctuation = re.sub(r'[^\\w\\s]', '', text)\n",
    "\n",
    "# Replace punctuation with space\n",
    "text_replace_punctuation = re.sub(r'[^\\w\\s]', ' ', text)\n",
    "\n",
    "print(\"Original Text:\")\n",
    "print(text)\n",
    "\n",
    "print(\"\\nText after Removing Punctuation:\")\n",
    "print(text_no_punctuation)\n",
    "\n",
    "print(\"\\nText after Replacing Punctuation with Space:\")\n",
    "print(text_replace_punctuation)"
   ]
  },
  {
   "cell_type": "code",
   "execution_count": null,
   "id": "1c0f5601",
   "metadata": {},
   "outputs": [],
   "source": []
  }
 ],
 "metadata": {
  "kernelspec": {
   "display_name": "Python 3 (ipykernel)",
   "language": "python",
   "name": "python3"
  },
  "language_info": {
   "codemirror_mode": {
    "name": "ipython",
    "version": 3
   },
   "file_extension": ".py",
   "mimetype": "text/x-python",
   "name": "python",
   "nbconvert_exporter": "python",
   "pygments_lexer": "ipython3",
   "version": "3.7.3"
  }
 },
 "nbformat": 4,
 "nbformat_minor": 5
}
