{
 "cells": [
  {
   "cell_type": "code",
   "execution_count": 1,
   "id": "c0832213",
   "metadata": {},
   "outputs": [],
   "source": [
    "# group data in a DataFrame by a specific column and apply an aggregate function\n",
    "import pandas as pd\n",
    " \n",
    "# assign data\n",
    "ipl_data = {'Team': ['Riders', 'Riders', 'Devils', 'Devils',\n",
    "                     'Kings',  'kings', 'Kings', 'Kings',\n",
    "                     'Riders', 'Royals', 'Royals', 'Riders'],\n",
    "            'Rank': [1, 2, 2, 3, 3, 4, 1, 1, 2, 4, 1, 2],\n",
    " \n",
    "            'Year': [2014, 2015, 2014, 2015, 2014, 2015, 2016,\n",
    "                     2017, 2016, 2014, 2015, 2017],\n",
    " \n",
    "            'Points': [876, 789, 863, 673, 741, 812, 756, 788,\n",
    "                       694, 701, 804, 690]}\n",
    " \n",
    "# create dataframe\n",
    "df = pd.DataFrame(ipl_data)"
   ]
  },
  {
   "cell_type": "code",
   "execution_count": 2,
   "id": "e4e9fb44",
   "metadata": {},
   "outputs": [
    {
     "data": {
      "text/plain": [
       "Team    Year\n",
       "Devils  2014    2\n",
       "        2015    3\n",
       "Kings   2014    3\n",
       "        2016    1\n",
       "        2017    1\n",
       "Riders  2014    1\n",
       "        2015    2\n",
       "        2016    2\n",
       "        2017    2\n",
       "Royals  2014    4\n",
       "        2015    1\n",
       "kings   2015    4\n",
       "Name: Rank, dtype: int64"
      ]
     },
     "execution_count": 2,
     "metadata": {},
     "output_type": "execute_result"
    }
   ],
   "source": [
    "# use groupby() to generate sum\n",
    "df.groupby(['Team', 'Year'])['Rank'].sum()"
   ]
  },
  {
   "cell_type": "code",
   "execution_count": null,
   "id": "3dcbbb76",
   "metadata": {},
   "outputs": [],
   "source": []
  }
 ],
 "metadata": {
  "kernelspec": {
   "display_name": "Python 3 (ipykernel)",
   "language": "python",
   "name": "python3"
  },
  "language_info": {
   "codemirror_mode": {
    "name": "ipython",
    "version": 3
   },
   "file_extension": ".py",
   "mimetype": "text/x-python",
   "name": "python",
   "nbconvert_exporter": "python",
   "pygments_lexer": "ipython3",
   "version": "3.7.3"
  }
 },
 "nbformat": 4,
 "nbformat_minor": 5
}
